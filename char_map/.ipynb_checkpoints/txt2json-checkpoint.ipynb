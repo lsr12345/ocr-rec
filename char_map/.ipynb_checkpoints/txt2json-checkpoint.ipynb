{
 "cells": [
  {
   "cell_type": "code",
   "execution_count": 1,
   "metadata": {
    "ExecuteTime": {
     "end_time": "2019-07-23T02:33:16.445516Z",
     "start_time": "2019-07-23T02:33:16.384595Z"
    },
    "collapsed": true
   },
   "outputs": [],
   "source": [
    "# encoding:utf-8\n",
    "import os\n",
    "import numpy as np\n",
    "import json"
   ]
  },
  {
   "cell_type": "code",
   "execution_count": 2,
   "metadata": {
    "ExecuteTime": {
     "end_time": "2019-07-23T02:33:16.449450Z",
     "start_time": "2019-07-23T02:33:16.446459Z"
    },
    "collapsed": true
   },
   "outputs": [],
   "source": [
    "txt_path = 'E:/DL_Data/Synthetic_Chinese_String_Dataset/char_std_5990.txt'\n",
    "json_path = 'H:/workspace_jupyter/crnn_ctc_ocr_Tensorflow/char_map/char_map_ch.json'"
   ]
  },
  {
   "cell_type": "code",
   "execution_count": 15,
   "metadata": {
    "ExecuteTime": {
     "end_time": "2019-07-23T02:52:39.359988Z",
     "start_time": "2019-07-23T02:52:39.345025Z"
    },
    "collapsed": true
   },
   "outputs": [],
   "source": [
    "char_dict = dict()\n",
    "f = open(txt_path,'r', encoding='gbk', errors='ignore')\n",
    "for i,l in enumerate(f.readlines()):\n",
    "    l = l.rstrip('\\n')\n",
    "    char_dict[l] = i\n",
    "#     print(char_dict)\n",
    "\n",
    "\n",
    "# json.dumps将dict转为str\n",
    "# ensure_ascii=False解决key为中文时存进文件是16进制的问题\n",
    "# indent = 2 设置字典格式（将一行表示变为多行表示）\n",
    "json_str = json.dumps(char_dict, indent=2, ensure_ascii=False)\n",
    "\n",
    "# 将str化的dict存进json文件\n",
    "with open(json_path,'w', encoding='utf-8') as wf:\n",
    "    wf.write(json_str)\n",
    "    "
   ]
  }
 ],
 "metadata": {
  "kernelspec": {
   "display_name": "Python 3",
   "language": "python",
   "name": "python3"
  },
  "language_info": {
   "codemirror_mode": {
    "name": "ipython",
    "version": 3
   },
   "file_extension": ".py",
   "mimetype": "text/x-python",
   "name": "python",
   "nbconvert_exporter": "python",
   "pygments_lexer": "ipython3",
   "version": "3.6.7"
  },
  "toc": {
   "base_numbering": 1,
   "nav_menu": {},
   "number_sections": true,
   "sideBar": true,
   "skip_h1_title": false,
   "title_cell": "Table of Contents",
   "title_sidebar": "Contents",
   "toc_cell": false,
   "toc_position": {},
   "toc_section_display": true,
   "toc_window_display": false
  },
  "varInspector": {
   "cols": {
    "lenName": 16,
    "lenType": 16,
    "lenVar": 40
   },
   "kernels_config": {
    "python": {
     "delete_cmd_postfix": "",
     "delete_cmd_prefix": "del ",
     "library": "var_list.py",
     "varRefreshCmd": "print(var_dic_list())"
    },
    "r": {
     "delete_cmd_postfix": ") ",
     "delete_cmd_prefix": "rm(",
     "library": "var_list.r",
     "varRefreshCmd": "cat(var_dic_list()) "
    }
   },
   "types_to_exclude": [
    "module",
    "function",
    "builtin_function_or_method",
    "instance",
    "_Feature"
   ],
   "window_display": false
  }
 },
 "nbformat": 4,
 "nbformat_minor": 2
}
